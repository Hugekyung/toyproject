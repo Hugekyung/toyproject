{
 "cells": [
  {
   "cell_type": "code",
   "execution_count": 14,
   "metadata": {
    "ExecuteTime": {
     "end_time": "2020-12-13T12:32:21.441338Z",
     "start_time": "2020-12-13T12:32:21.370332Z"
    }
   },
   "outputs": [],
   "source": [
    "import pandas as pd\n",
    "import matplotlib.pyplot as plt\n",
    "import seaborn as sns\n",
    "import numpy as np\n",
    "\n",
    "%matplotlib inline"
   ]
  },
  {
   "cell_type": "code",
   "execution_count": 3,
   "metadata": {
    "ExecuteTime": {
     "end_time": "2020-12-13T11:51:12.025308Z",
     "start_time": "2020-12-13T11:51:12.020306Z"
    }
   },
   "outputs": [],
   "source": [
    "import os\n",
    "\n",
    "if os.name == 'nt':\n",
    "    plt.rc('font', family='Malgun Gothic')\n",
    "    \n",
    "plt.rc(\"axes\", unicode_minus=False)"
   ]
  },
  {
   "cell_type": "code",
   "execution_count": 4,
   "metadata": {
    "ExecuteTime": {
     "end_time": "2020-12-13T11:51:12.075311Z",
     "start_time": "2020-12-13T11:51:12.032308Z"
    }
   },
   "outputs": [],
   "source": [
    "tg200_df = pd.read_csv(r'C:\\Users\\haech\\toyproject\\App_analysis\\applestore_crawler\\top_grossing200_20201207.csv')\n",
    "tp200_df = pd.read_csv(r'C:\\Users\\haech\\toyproject\\App_analysis\\applestore_crawler\\top_paid200_20201207.csv')"
   ]
  },
  {
   "cell_type": "code",
   "execution_count": 6,
   "metadata": {
    "ExecuteTime": {
     "end_time": "2020-12-13T11:53:10.980280Z",
     "start_time": "2020-12-13T11:53:10.915258Z"
    }
   },
   "outputs": [],
   "source": [
    "topfree_df = pd.read_csv(r'C:\\Users\\haech\\toyproject\\App_analysis\\applestore_crawler\\topfree_category200_20201208.csv')\n",
    "topgrossing_df = pd.read_csv(r'C:\\Users\\haech\\toyproject\\App_analysis\\applestore_crawler\\topgrossing_cate_20201209.csv')"
   ]
  },
  {
   "cell_type": "code",
   "execution_count": 9,
   "metadata": {
    "ExecuteTime": {
     "end_time": "2020-12-13T11:57:25.529460Z",
     "start_time": "2020-12-13T11:57:25.524459Z"
    }
   },
   "outputs": [],
   "source": [
    "df = topgrossing_df"
   ]
  },
  {
   "cell_type": "code",
   "execution_count": 10,
   "metadata": {
    "ExecuteTime": {
     "end_time": "2020-12-13T11:57:30.534106Z",
     "start_time": "2020-12-13T11:57:30.517104Z"
    },
    "scrolled": false
   },
   "outputs": [
    {
     "name": "stdout",
     "output_type": "stream",
     "text": [
      "<class 'pandas.core.frame.DataFrame'>\n",
      "RangeIndex: 3997 entries, 0 to 3996\n",
      "Data columns (total 15 columns):\n",
      " #   Column         Non-Null Count  Dtype  \n",
      "---  ------         --------------  -----  \n",
      " 0   title          3997 non-null   object \n",
      " 1   developer      3997 non-null   object \n",
      " 2   app_size(MB)   3988 non-null   object \n",
      " 3   category_code  3997 non-null   int64  \n",
      " 4   category       3997 non-null   object \n",
      " 5   genre(Games)   172 non-null    object \n",
      " 6   review_num     3481 non-null   float64\n",
      " 7   review_score   3481 non-null   float64\n",
      " 8   version        3794 non-null   float64\n",
      " 9   lang           3900 non-null   object \n",
      " 10  lang_num       3900 non-null   float64\n",
      " 11  pricing        3997 non-null   object \n",
      " 12  price(won)     3997 non-null   int64  \n",
      " 13  release_year   3997 non-null   int64  \n",
      " 14  app_url        3997 non-null   object \n",
      "dtypes: float64(4), int64(3), object(8)\n",
      "memory usage: 468.5+ KB\n"
     ]
    }
   ],
   "source": [
    "df.info()"
   ]
  },
  {
   "cell_type": "code",
   "execution_count": 41,
   "metadata": {
    "ExecuteTime": {
     "end_time": "2020-12-13T12:58:40.024345Z",
     "start_time": "2020-12-13T12:58:40.012343Z"
    }
   },
   "outputs": [
    {
     "data": {
      "text/plain": [
       "Lifestyle            200\n",
       "Business             200\n",
       "News                 200\n",
       "Photo & Video        200\n",
       "Finance              200\n",
       "Social Networking    200\n",
       "Entertainment        200\n",
       "Productivity         200\n",
       "Books                200\n",
       "Travel               200\n",
       "Navigation           200\n",
       "Weather              200\n",
       "Sports               200\n",
       "Music                200\n",
       "Health & Fitness     200\n",
       "Utilities            200\n",
       "Medical              200\n",
       "Games                199\n",
       "Food & Drink         199\n",
       "Education            199\n",
       "Name: category, dtype: int64"
      ]
     },
     "execution_count": 41,
     "metadata": {},
     "output_type": "execute_result"
    }
   ],
   "source": [
    "df[\"category\"].value_counts()"
   ]
  },
  {
   "cell_type": "code",
   "execution_count": 48,
   "metadata": {
    "ExecuteTime": {
     "end_time": "2020-12-13T16:50:14.236678Z",
     "start_time": "2020-12-13T16:50:14.229676Z"
    }
   },
   "outputs": [
    {
     "data": {
      "text/plain": [
       "Index(['title', 'developer', 'app_size(MB)', 'category_code', 'category',\n",
       "       'genre(Games)', 'review_num', 'review_score', 'version', 'lang',\n",
       "       'lang_num', 'pricing', 'price(won)', 'release_year', 'app_url'],\n",
       "      dtype='object')"
      ]
     },
     "execution_count": 48,
     "metadata": {},
     "output_type": "execute_result"
    }
   ],
   "source": [
    "df.columns"
   ]
  },
  {
   "cell_type": "markdown",
   "metadata": {},
   "source": [
    "## 전체 3,997개 앱 중 무료 앱은 3,157개 / 유료 앱은 840개"
   ]
  },
  {
   "cell_type": "code",
   "execution_count": 58,
   "metadata": {
    "ExecuteTime": {
     "end_time": "2020-12-13T17:02:15.194986Z",
     "start_time": "2020-12-13T17:02:15.024988Z"
    },
    "scrolled": false
   },
   "outputs": [
    {
     "name": "stdout",
     "output_type": "stream",
     "text": [
      "free    3157\n",
      "paid     840\n",
      "Name: pricing, dtype: int64\n"
     ]
    },
    {
     "data": {
      "text/plain": [
       "<matplotlib.axes._subplots.AxesSubplot at 0x2d33ff00cc8>"
      ]
     },
     "execution_count": 58,
     "metadata": {},
     "output_type": "execute_result"
    },
    {
     "data": {
      "image/png": "[encoded data removed]",
      "text/plain": [
       "<Figure size 720x288 with 1 Axes>"
      ]
     },
     "metadata": {
      "needs_background": "light"
     },
     "output_type": "display_data"
    }
   ],
   "source": [
    "# 무료/유료 앱 - 카테고리 비중\n",
    "print(df[\"pricing\"].value_counts())\n",
    "plt.figure(figsize=(10,4))\n",
    "sns.countplot(data=df, x=\"pricing\")"
   ]
  },
  {
   "cell_type": "markdown",
   "metadata": {},
   "source": [
    "## 무료 앱의 비중은 '게임'과 '소셜 네트워킹' 카테고리가 가장 크다\n",
    "## 유료 앱의 비중은 '식음료'와 '날씨' 카테고리가 가장 크다"
   ]
  },
  {
   "cell_type": "code",
   "execution_count": 57,
   "metadata": {
    "ExecuteTime": {
     "end_time": "2020-12-13T17:01:18.773017Z",
     "start_time": "2020-12-13T17:01:18.339455Z"
    },
    "scrolled": false
   },
   "outputs": [
    {
     "data": {
      "text/plain": [
       "<matplotlib.axes._subplots.AxesSubplot at 0x2d33fc3ee48>"
      ]
     },
     "execution_count": 57,
     "metadata": {},
     "output_type": "execute_result"
    },
    {
     "data": {
      "image/png": "[encoded data removed]",
      "text/plain": [
       "<Figure size 1080x576 with 1 Axes>"
      ]
     },
     "metadata": {
      "needs_background": "light"
     },
     "output_type": "display_data"
    }
   ],
   "source": [
    "plt.figure(figsize=(15,8))\n",
    "sns.countplot(data=df, y=\"category\", hue=\"pricing\")"
   ]
  },
  {
   "cell_type": "markdown",
   "metadata": {},
   "source": [
    "## 전체 앱 평점의 평균값은 4.1\n",
    "## 리뷰 평점 평균값은 무료 앱(4.1)이 유료 앱(4.0)보다 더 높다\n",
    "## 유료 앱의 평균가격은 12,781원이다"
   ]
  },
  {
   "cell_type": "code",
   "execution_count": 75,
   "metadata": {
    "ExecuteTime": {
     "end_time": "2020-12-13T17:38:26.119410Z",
     "start_time": "2020-12-13T17:38:26.086892Z"
    }
   },
   "outputs": [
    {
     "name": "stdout",
     "output_type": "stream",
     "text": [
      "전체 앱 평균 평점:  4.129646653260551\n"
     ]
    },
    {
     "data": {
      "text/html": [
       "<div>\n",
       "<style scoped>\n",
       "    .dataframe tbody tr th:only-of-type {\n",
       "        vertical-align: middle;\n",
       "    }\n",
       "\n",
       "    .dataframe tbody tr th {\n",
       "        vertical-align: top;\n",
       "    }\n",
       "\n",
       "    .dataframe thead th {\n",
       "        text-align: right;\n",
       "    }\n",
       "</style>\n",
       "<table border=\"1\" class=\"dataframe\">\n",
       "  <thead>\n",
       "    <tr style=\"text-align: right;\">\n",
       "      <th></th>\n",
       "      <th>pricing</th>\n",
       "      <th>category_code</th>\n",
       "      <th>review_num</th>\n",
       "      <th>review_score</th>\n",
       "      <th>version</th>\n",
       "      <th>lang_num</th>\n",
       "      <th>price(won)</th>\n",
       "      <th>release_year</th>\n",
       "    </tr>\n",
       "  </thead>\n",
       "  <tbody>\n",
       "    <tr>\n",
       "      <th>0</th>\n",
       "      <td>free</td>\n",
       "      <td>6010.401330</td>\n",
       "      <td>3355.256051</td>\n",
       "      <td>4.136514</td>\n",
       "      <td>10.239012</td>\n",
       "      <td>8.004547</td>\n",
       "      <td>0.000000</td>\n",
       "      <td>2015.758315</td>\n",
       "    </tr>\n",
       "    <tr>\n",
       "      <th>1</th>\n",
       "      <td>paid</td>\n",
       "      <td>6010.844048</td>\n",
       "      <td>501.157143</td>\n",
       "      <td>4.098571</td>\n",
       "      <td>9.982609</td>\n",
       "      <td>6.381242</td>\n",
       "      <td>12781.309524</td>\n",
       "      <td>2014.261905</td>\n",
       "    </tr>\n",
       "  </tbody>\n",
       "</table>\n",
       "</div>"
      ],
      "text/plain": [
       "  pricing  category_code   review_num  review_score    version  lang_num  \\\n",
       "0    free    6010.401330  3355.256051      4.136514  10.239012  8.004547   \n",
       "1    paid    6010.844048   501.157143      4.098571   9.982609  6.381242   \n",
       "\n",
       "     price(won)  release_year  \n",
       "0      0.000000   2015.758315  \n",
       "1  12781.309524   2014.261905  "
      ]
     },
     "execution_count": 75,
     "metadata": {},
     "output_type": "execute_result"
    }
   ],
   "source": [
    "# 전체 앱 평균 평점/카테고리별 평균 평점/평점 분포\n",
    "\n",
    "print(\"전체 앱 평균 평점: \", df[\"review_score\"].mean())\n",
    "group_price = df.groupby(df[\"pricing\"]).mean().reset_index()\n",
    "group_price"
   ]
  },
  {
   "cell_type": "code",
   "execution_count": 84,
   "metadata": {
    "ExecuteTime": {
     "end_time": "2020-12-13T17:43:46.020985Z",
     "start_time": "2020-12-13T17:43:45.973953Z"
    },
    "scrolled": true
   },
   "outputs": [
    {
     "data": {
      "text/html": [
       "<div>\n",
       "<style scoped>\n",
       "    .dataframe tbody tr th:only-of-type {\n",
       "        vertical-align: middle;\n",
       "    }\n",
       "\n",
       "    .dataframe tbody tr th {\n",
       "        vertical-align: top;\n",
       "    }\n",
       "\n",
       "    .dataframe thead th {\n",
       "        text-align: right;\n",
       "    }\n",
       "</style>\n",
       "<table border=\"1\" class=\"dataframe\">\n",
       "  <thead>\n",
       "    <tr style=\"text-align: right;\">\n",
       "      <th></th>\n",
       "      <th>pricing</th>\n",
       "      <th>category</th>\n",
       "      <th>category_code</th>\n",
       "      <th>review_num</th>\n",
       "      <th>review_score</th>\n",
       "      <th>version</th>\n",
       "      <th>lang_num</th>\n",
       "      <th>price(won)</th>\n",
       "      <th>release_year</th>\n",
       "    </tr>\n",
       "  </thead>\n",
       "  <tbody>\n",
       "    <tr>\n",
       "      <th>0</th>\n",
       "      <td>free</td>\n",
       "      <td>Books</td>\n",
       "      <td>6018.0</td>\n",
       "      <td>342.546667</td>\n",
       "      <td>3.902667</td>\n",
       "      <td>9.650602</td>\n",
       "      <td>3.881988</td>\n",
       "      <td>0.000000</td>\n",
       "      <td>2015.644970</td>\n",
       "    </tr>\n",
       "    <tr>\n",
       "      <th>1</th>\n",
       "      <td>free</td>\n",
       "      <td>Business</td>\n",
       "      <td>6000.0</td>\n",
       "      <td>1329.973856</td>\n",
       "      <td>4.107843</td>\n",
       "      <td>10.704605</td>\n",
       "      <td>10.222892</td>\n",
       "      <td>0.000000</td>\n",
       "      <td>2016.760479</td>\n",
       "    </tr>\n",
       "    <tr>\n",
       "      <th>2</th>\n",
       "      <td>free</td>\n",
       "      <td>Education</td>\n",
       "      <td>6017.0</td>\n",
       "      <td>1813.101266</td>\n",
       "      <td>4.104430</td>\n",
       "      <td>10.172152</td>\n",
       "      <td>7.869565</td>\n",
       "      <td>0.000000</td>\n",
       "      <td>2016.049689</td>\n",
       "    </tr>\n",
       "    <tr>\n",
       "      <th>3</th>\n",
       "      <td>free</td>\n",
       "      <td>Entertainment</td>\n",
       "      <td>6018.0</td>\n",
       "      <td>342.546667</td>\n",
       "      <td>3.902667</td>\n",
       "      <td>9.650602</td>\n",
       "      <td>3.881988</td>\n",
       "      <td>0.000000</td>\n",
       "      <td>2015.644970</td>\n",
       "    </tr>\n",
       "    <tr>\n",
       "      <th>4</th>\n",
       "      <td>free</td>\n",
       "      <td>Finance</td>\n",
       "      <td>6015.0</td>\n",
       "      <td>473.032787</td>\n",
       "      <td>4.311475</td>\n",
       "      <td>10.262590</td>\n",
       "      <td>5.774648</td>\n",
       "      <td>0.000000</td>\n",
       "      <td>2015.541667</td>\n",
       "    </tr>\n",
       "    <tr>\n",
       "      <th>5</th>\n",
       "      <td>free</td>\n",
       "      <td>Food &amp; Drink</td>\n",
       "      <td>6023.0</td>\n",
       "      <td>129.800000</td>\n",
       "      <td>4.602222</td>\n",
       "      <td>10.161290</td>\n",
       "      <td>3.750000</td>\n",
       "      <td>0.000000</td>\n",
       "      <td>2014.760000</td>\n",
       "    </tr>\n",
       "    <tr>\n",
       "      <th>6</th>\n",
       "      <td>free</td>\n",
       "      <td>Games</td>\n",
       "      <td>6014.0</td>\n",
       "      <td>17169.010152</td>\n",
       "      <td>4.159898</td>\n",
       "      <td>9.356345</td>\n",
       "      <td>6.356021</td>\n",
       "      <td>0.000000</td>\n",
       "      <td>2017.974619</td>\n",
       "    </tr>\n",
       "    <tr>\n",
       "      <th>7</th>\n",
       "      <td>free</td>\n",
       "      <td>Health &amp; Fitness</td>\n",
       "      <td>6013.0</td>\n",
       "      <td>2547.438272</td>\n",
       "      <td>4.329630</td>\n",
       "      <td>10.913855</td>\n",
       "      <td>10.101190</td>\n",
       "      <td>0.000000</td>\n",
       "      <td>2016.196429</td>\n",
       "    </tr>\n",
       "    <tr>\n",
       "      <th>8</th>\n",
       "      <td>free</td>\n",
       "      <td>Lifestyle</td>\n",
       "      <td>6012.0</td>\n",
       "      <td>2131.086093</td>\n",
       "      <td>3.986755</td>\n",
       "      <td>10.474051</td>\n",
       "      <td>8.381250</td>\n",
       "      <td>0.000000</td>\n",
       "      <td>2017.156250</td>\n",
       "    </tr>\n",
       "    <tr>\n",
       "      <th>9</th>\n",
       "      <td>free</td>\n",
       "      <td>Medical</td>\n",
       "      <td>6020.0</td>\n",
       "      <td>412.270833</td>\n",
       "      <td>4.083333</td>\n",
       "      <td>10.095238</td>\n",
       "      <td>6.384615</td>\n",
       "      <td>0.000000</td>\n",
       "      <td>2015.100000</td>\n",
       "    </tr>\n",
       "    <tr>\n",
       "      <th>10</th>\n",
       "      <td>free</td>\n",
       "      <td>Music</td>\n",
       "      <td>6011.0</td>\n",
       "      <td>2019.260000</td>\n",
       "      <td>3.993333</td>\n",
       "      <td>10.338621</td>\n",
       "      <td>11.298013</td>\n",
       "      <td>0.000000</td>\n",
       "      <td>2015.254902</td>\n",
       "    </tr>\n",
       "    <tr>\n",
       "      <th>11</th>\n",
       "      <td>free</td>\n",
       "      <td>Navigation</td>\n",
       "      <td>6010.0</td>\n",
       "      <td>538.245763</td>\n",
       "      <td>3.645763</td>\n",
       "      <td>9.411765</td>\n",
       "      <td>8.837209</td>\n",
       "      <td>0.000000</td>\n",
       "      <td>2013.323529</td>\n",
       "    </tr>\n",
       "    <tr>\n",
       "      <th>12</th>\n",
       "      <td>free</td>\n",
       "      <td>News</td>\n",
       "      <td>6009.0</td>\n",
       "      <td>150.677852</td>\n",
       "      <td>4.623490</td>\n",
       "      <td>10.373333</td>\n",
       "      <td>3.197452</td>\n",
       "      <td>0.000000</td>\n",
       "      <td>2013.082418</td>\n",
       "    </tr>\n",
       "    <tr>\n",
       "      <th>13</th>\n",
       "      <td>free</td>\n",
       "      <td>Photo &amp; Video</td>\n",
       "      <td>6008.0</td>\n",
       "      <td>15274.820000</td>\n",
       "      <td>4.283333</td>\n",
       "      <td>10.925517</td>\n",
       "      <td>13.655629</td>\n",
       "      <td>0.000000</td>\n",
       "      <td>2016.298013</td>\n",
       "    </tr>\n",
       "    <tr>\n",
       "      <th>14</th>\n",
       "      <td>free</td>\n",
       "      <td>Productivity</td>\n",
       "      <td>6007.0</td>\n",
       "      <td>4226.780645</td>\n",
       "      <td>4.307097</td>\n",
       "      <td>11.021429</td>\n",
       "      <td>13.478261</td>\n",
       "      <td>0.000000</td>\n",
       "      <td>2016.540373</td>\n",
       "    </tr>\n",
       "    <tr>\n",
       "      <th>15</th>\n",
       "      <td>free</td>\n",
       "      <td>Social Networking</td>\n",
       "      <td>6005.0</td>\n",
       "      <td>5822.250000</td>\n",
       "      <td>3.818229</td>\n",
       "      <td>10.308586</td>\n",
       "      <td>6.761421</td>\n",
       "      <td>0.000000</td>\n",
       "      <td>2016.449495</td>\n",
       "    </tr>\n",
       "    <tr>\n",
       "      <th>16</th>\n",
       "      <td>free</td>\n",
       "      <td>Sports</td>\n",
       "      <td>6004.0</td>\n",
       "      <td>138.125000</td>\n",
       "      <td>4.222321</td>\n",
       "      <td>10.368182</td>\n",
       "      <td>4.441558</td>\n",
       "      <td>0.000000</td>\n",
       "      <td>2015.273885</td>\n",
       "    </tr>\n",
       "    <tr>\n",
       "      <th>17</th>\n",
       "      <td>free</td>\n",
       "      <td>Travel</td>\n",
       "      <td>6003.0</td>\n",
       "      <td>316.548872</td>\n",
       "      <td>4.360150</td>\n",
       "      <td>9.922759</td>\n",
       "      <td>10.253425</td>\n",
       "      <td>0.000000</td>\n",
       "      <td>2014.530201</td>\n",
       "    </tr>\n",
       "    <tr>\n",
       "      <th>18</th>\n",
       "      <td>free</td>\n",
       "      <td>Utilities</td>\n",
       "      <td>6002.0</td>\n",
       "      <td>927.973684</td>\n",
       "      <td>3.872368</td>\n",
       "      <td>10.541611</td>\n",
       "      <td>10.601266</td>\n",
       "      <td>0.000000</td>\n",
       "      <td>2017.474684</td>\n",
       "    </tr>\n",
       "    <tr>\n",
       "      <th>19</th>\n",
       "      <td>free</td>\n",
       "      <td>Weather</td>\n",
       "      <td>6001.0</td>\n",
       "      <td>861.702703</td>\n",
       "      <td>4.392793</td>\n",
       "      <td>10.381579</td>\n",
       "      <td>11.151261</td>\n",
       "      <td>0.000000</td>\n",
       "      <td>2014.696721</td>\n",
       "    </tr>\n",
       "    <tr>\n",
       "      <th>20</th>\n",
       "      <td>paid</td>\n",
       "      <td>Books</td>\n",
       "      <td>6018.0</td>\n",
       "      <td>170.840000</td>\n",
       "      <td>3.920000</td>\n",
       "      <td>9.512903</td>\n",
       "      <td>4.206897</td>\n",
       "      <td>9090.322581</td>\n",
       "      <td>2013.935484</td>\n",
       "    </tr>\n",
       "    <tr>\n",
       "      <th>21</th>\n",
       "      <td>paid</td>\n",
       "      <td>Business</td>\n",
       "      <td>6000.0</td>\n",
       "      <td>199.677419</td>\n",
       "      <td>4.245161</td>\n",
       "      <td>10.608333</td>\n",
       "      <td>8.968750</td>\n",
       "      <td>18769.696970</td>\n",
       "      <td>2013.818182</td>\n",
       "    </tr>\n",
       "    <tr>\n",
       "      <th>22</th>\n",
       "      <td>paid</td>\n",
       "      <td>Education</td>\n",
       "      <td>6017.0</td>\n",
       "      <td>314.058824</td>\n",
       "      <td>3.920588</td>\n",
       "      <td>10.254054</td>\n",
       "      <td>4.861111</td>\n",
       "      <td>5968.421053</td>\n",
       "      <td>2014.894737</td>\n",
       "    </tr>\n",
       "    <tr>\n",
       "      <th>23</th>\n",
       "      <td>paid</td>\n",
       "      <td>Entertainment</td>\n",
       "      <td>6018.0</td>\n",
       "      <td>170.840000</td>\n",
       "      <td>3.920000</td>\n",
       "      <td>9.512903</td>\n",
       "      <td>4.206897</td>\n",
       "      <td>9090.322581</td>\n",
       "      <td>2013.935484</td>\n",
       "    </tr>\n",
       "    <tr>\n",
       "      <th>24</th>\n",
       "      <td>paid</td>\n",
       "      <td>Finance</td>\n",
       "      <td>6015.0</td>\n",
       "      <td>294.765957</td>\n",
       "      <td>4.174468</td>\n",
       "      <td>9.719565</td>\n",
       "      <td>7.535714</td>\n",
       "      <td>15541.071429</td>\n",
       "      <td>2014.178571</td>\n",
       "    </tr>\n",
       "    <tr>\n",
       "      <th>25</th>\n",
       "      <td>paid</td>\n",
       "      <td>Food &amp; Drink</td>\n",
       "      <td>6023.0</td>\n",
       "      <td>2.181818</td>\n",
       "      <td>4.313636</td>\n",
       "      <td>9.934247</td>\n",
       "      <td>3.069444</td>\n",
       "      <td>6225.675676</td>\n",
       "      <td>2014.243243</td>\n",
       "    </tr>\n",
       "    <tr>\n",
       "      <th>26</th>\n",
       "      <td>paid</td>\n",
       "      <td>Games</td>\n",
       "      <td>6014.0</td>\n",
       "      <td>7400.000000</td>\n",
       "      <td>4.150000</td>\n",
       "      <td>9.500000</td>\n",
       "      <td>6.000000</td>\n",
       "      <td>9950.000000</td>\n",
       "      <td>2015.500000</td>\n",
       "    </tr>\n",
       "    <tr>\n",
       "      <th>27</th>\n",
       "      <td>paid</td>\n",
       "      <td>Health &amp; Fitness</td>\n",
       "      <td>6013.0</td>\n",
       "      <td>342.000000</td>\n",
       "      <td>4.179310</td>\n",
       "      <td>10.683871</td>\n",
       "      <td>8.562500</td>\n",
       "      <td>4937.500000</td>\n",
       "      <td>2014.531250</td>\n",
       "    </tr>\n",
       "    <tr>\n",
       "      <th>28</th>\n",
       "      <td>paid</td>\n",
       "      <td>Lifestyle</td>\n",
       "      <td>6012.0</td>\n",
       "      <td>767.750000</td>\n",
       "      <td>4.182500</td>\n",
       "      <td>10.462500</td>\n",
       "      <td>4.125000</td>\n",
       "      <td>5572.500000</td>\n",
       "      <td>2017.125000</td>\n",
       "    </tr>\n",
       "    <tr>\n",
       "      <th>29</th>\n",
       "      <td>paid</td>\n",
       "      <td>Medical</td>\n",
       "      <td>6020.0</td>\n",
       "      <td>68.500000</td>\n",
       "      <td>3.905263</td>\n",
       "      <td>9.593548</td>\n",
       "      <td>3.507246</td>\n",
       "      <td>32517.142857</td>\n",
       "      <td>2014.285714</td>\n",
       "    </tr>\n",
       "    <tr>\n",
       "      <th>30</th>\n",
       "      <td>paid</td>\n",
       "      <td>Music</td>\n",
       "      <td>6011.0</td>\n",
       "      <td>57.950000</td>\n",
       "      <td>4.097500</td>\n",
       "      <td>9.935000</td>\n",
       "      <td>5.652174</td>\n",
       "      <td>14912.765957</td>\n",
       "      <td>2013.510638</td>\n",
       "    </tr>\n",
       "    <tr>\n",
       "      <th>31</th>\n",
       "      <td>paid</td>\n",
       "      <td>Navigation</td>\n",
       "      <td>6010.0</td>\n",
       "      <td>22.416667</td>\n",
       "      <td>4.137500</td>\n",
       "      <td>9.926562</td>\n",
       "      <td>7.781250</td>\n",
       "      <td>12506.250000</td>\n",
       "      <td>2012.984375</td>\n",
       "    </tr>\n",
       "    <tr>\n",
       "      <th>32</th>\n",
       "      <td>paid</td>\n",
       "      <td>News</td>\n",
       "      <td>6009.0</td>\n",
       "      <td>8.416667</td>\n",
       "      <td>4.291667</td>\n",
       "      <td>11.600000</td>\n",
       "      <td>4.166667</td>\n",
       "      <td>11666.666667</td>\n",
       "      <td>2015.777778</td>\n",
       "    </tr>\n",
       "    <tr>\n",
       "      <th>33</th>\n",
       "      <td>paid</td>\n",
       "      <td>Photo &amp; Video</td>\n",
       "      <td>6008.0</td>\n",
       "      <td>1983.651163</td>\n",
       "      <td>3.797674</td>\n",
       "      <td>10.617949</td>\n",
       "      <td>6.938776</td>\n",
       "      <td>17632.653061</td>\n",
       "      <td>2015.387755</td>\n",
       "    </tr>\n",
       "    <tr>\n",
       "      <th>34</th>\n",
       "      <td>paid</td>\n",
       "      <td>Productivity</td>\n",
       "      <td>6007.0</td>\n",
       "      <td>2222.444444</td>\n",
       "      <td>4.277778</td>\n",
       "      <td>10.536667</td>\n",
       "      <td>9.153846</td>\n",
       "      <td>11825.641026</td>\n",
       "      <td>2015.205128</td>\n",
       "    </tr>\n",
       "    <tr>\n",
       "      <th>35</th>\n",
       "      <td>paid</td>\n",
       "      <td>Social Networking</td>\n",
       "      <td>6005.0</td>\n",
       "      <td>314.500000</td>\n",
       "      <td>4.700000</td>\n",
       "      <td>12.700000</td>\n",
       "      <td>4.000000</td>\n",
       "      <td>5900.000000</td>\n",
       "      <td>2012.500000</td>\n",
       "    </tr>\n",
       "    <tr>\n",
       "      <th>36</th>\n",
       "      <td>paid</td>\n",
       "      <td>Sports</td>\n",
       "      <td>6004.0</td>\n",
       "      <td>16.392857</td>\n",
       "      <td>3.992857</td>\n",
       "      <td>9.318605</td>\n",
       "      <td>4.205128</td>\n",
       "      <td>21076.744186</td>\n",
       "      <td>2013.581395</td>\n",
       "    </tr>\n",
       "    <tr>\n",
       "      <th>37</th>\n",
       "      <td>paid</td>\n",
       "      <td>Travel</td>\n",
       "      <td>6003.0</td>\n",
       "      <td>37.461538</td>\n",
       "      <td>4.371795</td>\n",
       "      <td>9.786957</td>\n",
       "      <td>6.916667</td>\n",
       "      <td>7517.647059</td>\n",
       "      <td>2012.862745</td>\n",
       "    </tr>\n",
       "    <tr>\n",
       "      <th>38</th>\n",
       "      <td>paid</td>\n",
       "      <td>Utilities</td>\n",
       "      <td>6002.0</td>\n",
       "      <td>1163.702703</td>\n",
       "      <td>3.878378</td>\n",
       "      <td>10.588462</td>\n",
       "      <td>8.804878</td>\n",
       "      <td>7507.142857</td>\n",
       "      <td>2015.428571</td>\n",
       "    </tr>\n",
       "    <tr>\n",
       "      <th>39</th>\n",
       "      <td>paid</td>\n",
       "      <td>Weather</td>\n",
       "      <td>6001.0</td>\n",
       "      <td>76.538462</td>\n",
       "      <td>4.200000</td>\n",
       "      <td>9.546774</td>\n",
       "      <td>10.282051</td>\n",
       "      <td>8528.205128</td>\n",
       "      <td>2013.525641</td>\n",
       "    </tr>\n",
       "  </tbody>\n",
       "</table>\n",
       "</div>"
      ],
      "text/plain": [
       "   pricing           category  category_code    review_num  review_score  \\\n",
       "0     free              Books         6018.0    342.546667      3.902667   \n",
       "1     free           Business         6000.0   1329.973856      4.107843   \n",
       "2     free          Education         6017.0   1813.101266      4.104430   \n",
       "3     free      Entertainment         6018.0    342.546667      3.902667   \n",
       "4     free            Finance         6015.0    473.032787      4.311475   \n",
       "5     free       Food & Drink         6023.0    129.800000      4.602222   \n",
       "6     free              Games         6014.0  17169.010152      4.159898   \n",
       "7     free   Health & Fitness         6013.0   2547.438272      4.329630   \n",
       "8     free          Lifestyle         6012.0   2131.086093      3.986755   \n",
       "9     free            Medical         6020.0    412.270833      4.083333   \n",
       "10    free              Music         6011.0   2019.260000      3.993333   \n",
       "11    free         Navigation         6010.0    538.245763      3.645763   \n",
       "12    free               News         6009.0    150.677852      4.623490   \n",
       "13    free      Photo & Video         6008.0  15274.820000      4.283333   \n",
       "14    free       Productivity         6007.0   4226.780645      4.307097   \n",
       "15    free  Social Networking         6005.0   5822.250000      3.818229   \n",
       "16    free             Sports         6004.0    138.125000      4.222321   \n",
       "17    free             Travel         6003.0    316.548872      4.360150   \n",
       "18    free          Utilities         6002.0    927.973684      3.872368   \n",
       "19    free            Weather         6001.0    861.702703      4.392793   \n",
       "20    paid              Books         6018.0    170.840000      3.920000   \n",
       "21    paid           Business         6000.0    199.677419      4.245161   \n",
       "22    paid          Education         6017.0    314.058824      3.920588   \n",
       "23    paid      Entertainment         6018.0    170.840000      3.920000   \n",
       "24    paid            Finance         6015.0    294.765957      4.174468   \n",
       "25    paid       Food & Drink         6023.0      2.181818      4.313636   \n",
       "26    paid              Games         6014.0   7400.000000      4.150000   \n",
       "27    paid   Health & Fitness         6013.0    342.000000      4.179310   \n",
       "28    paid          Lifestyle         6012.0    767.750000      4.182500   \n",
       "29    paid            Medical         6020.0     68.500000      3.905263   \n",
       "30    paid              Music         6011.0     57.950000      4.097500   \n",
       "31    paid         Navigation         6010.0     22.416667      4.137500   \n",
       "32    paid               News         6009.0      8.416667      4.291667   \n",
       "33    paid      Photo & Video         6008.0   1983.651163      3.797674   \n",
       "34    paid       Productivity         6007.0   2222.444444      4.277778   \n",
       "35    paid  Social Networking         6005.0    314.500000      4.700000   \n",
       "36    paid             Sports         6004.0     16.392857      3.992857   \n",
       "37    paid             Travel         6003.0     37.461538      4.371795   \n",
       "38    paid          Utilities         6002.0   1163.702703      3.878378   \n",
       "39    paid            Weather         6001.0     76.538462      4.200000   \n",
       "\n",
       "      version   lang_num    price(won)  release_year  \n",
       "0    9.650602   3.881988      0.000000   2015.644970  \n",
       "1   10.704605  10.222892      0.000000   2016.760479  \n",
       "2   10.172152   7.869565      0.000000   2016.049689  \n",
       "3    9.650602   3.881988      0.000000   2015.644970  \n",
       "4   10.262590   5.774648      0.000000   2015.541667  \n",
       "5   10.161290   3.750000      0.000000   2014.760000  \n",
       "6    9.356345   6.356021      0.000000   2017.974619  \n",
       "7   10.913855  10.101190      0.000000   2016.196429  \n",
       "8   10.474051   8.381250      0.000000   2017.156250  \n",
       "9   10.095238   6.384615      0.000000   2015.100000  \n",
       "10  10.338621  11.298013      0.000000   2015.254902  \n",
       "11   9.411765   8.837209      0.000000   2013.323529  \n",
       "12  10.373333   3.197452      0.000000   2013.082418  \n",
       "13  10.925517  13.655629      0.000000   2016.298013  \n",
       "14  11.021429  13.478261      0.000000   2016.540373  \n",
       "15  10.308586   6.761421      0.000000   2016.449495  \n",
       "16  10.368182   4.441558      0.000000   2015.273885  \n",
       "17   9.922759  10.253425      0.000000   2014.530201  \n",
       "18  10.541611  10.601266      0.000000   2017.474684  \n",
       "19  10.381579  11.151261      0.000000   2014.696721  \n",
       "20   9.512903   4.206897   9090.322581   2013.935484  \n",
       "21  10.608333   8.968750  18769.696970   2013.818182  \n",
       "22  10.254054   4.861111   5968.421053   2014.894737  \n",
       "23   9.512903   4.206897   9090.322581   2013.935484  \n",
       "24   9.719565   7.535714  15541.071429   2014.178571  \n",
       "25   9.934247   3.069444   6225.675676   2014.243243  \n",
       "26   9.500000   6.000000   9950.000000   2015.500000  \n",
       "27  10.683871   8.562500   4937.500000   2014.531250  \n",
       "28  10.462500   4.125000   5572.500000   2017.125000  \n",
       "29   9.593548   3.507246  32517.142857   2014.285714  \n",
       "30   9.935000   5.652174  14912.765957   2013.510638  \n",
       "31   9.926562   7.781250  12506.250000   2012.984375  \n",
       "32  11.600000   4.166667  11666.666667   2015.777778  \n",
       "33  10.617949   6.938776  17632.653061   2015.387755  \n",
       "34  10.536667   9.153846  11825.641026   2015.205128  \n",
       "35  12.700000   4.000000   5900.000000   2012.500000  \n",
       "36   9.318605   4.205128  21076.744186   2013.581395  \n",
       "37   9.786957   6.916667   7517.647059   2012.862745  \n",
       "38  10.588462   8.804878   7507.142857   2015.428571  \n",
       "39   9.546774  10.282051   8528.205128   2013.525641  "
      ]
     },
     "execution_count": 84,
     "metadata": {},
     "output_type": "execute_result"
    }
   ],
   "source": [
    "group_cate = df.groupby([\"pricing\", \"category\"]).mean().reset_index()\n",
    "group_cate"
   ]
  },
  {
   "cell_type": "code",
   "execution_count": 88,
   "metadata": {
    "ExecuteTime": {
     "end_time": "2020-12-13T17:45:09.616791Z",
     "start_time": "2020-12-13T17:45:09.079481Z"
    }
   },
   "outputs": [
    {
     "data": {
      "text/plain": [
       "Text(0.5, 1.0, '유/무료 카테고리별 앱 평점 평균')"
      ]
     },
     "execution_count": 88,
     "metadata": {},
     "output_type": "execute_result"
    },
    {
     "data": {
      "image/png": "[encoded data removed]",
      "text/plain": [
       "<Figure size 1080x576 with 1 Axes>"
      ]
     },
     "metadata": {
      "needs_background": "light"
     },
     "output_type": "display_data"
    }
   ],
   "source": [
    "plt.figure(figsize=(15,8))\n",
    "sns.barplot(data=group_cate, y=\"category\", x=\"review_score\", hue=\"pricing\")\n",
    "plt.title(\"유/무료 카테고리별 앱 평점 평균\")"
   ]
  },
  {
   "cell_type": "code",
   "execution_count": 94,
   "metadata": {
    "ExecuteTime": {
     "end_time": "2020-12-14T16:41:22.029532Z",
     "start_time": "2020-12-14T16:41:22.006519Z"
    },
    "scrolled": true
   },
   "outputs": [
    {
     "data": {
      "text/plain": [
       "Index(['title', 'developer', 'app_size(MB)', 'category_code', 'category',\n",
       "       'genre(Games)', 'review_num', 'review_score', 'version', 'lang',\n",
       "       'lang_num', 'pricing', 'price(won)', 'release_year', 'app_url'],\n",
       "      dtype='object')"
      ]
     },
     "execution_count": 94,
     "metadata": {},
     "output_type": "execute_result"
    }
   ],
   "source": [
    "# 게임 카테고리의 경우, 가장 인기있는 장르\n",
    "\n",
    "df_games = df[df[\"category\"] == \"Games\"]\n",
    "df_games.columns"
   ]
  },
  {
   "cell_type": "markdown",
   "metadata": {},
   "source": [
    "## \"Games\" 카테고리 내 장르별 게임 수를 살펴보면, 롤플레잉이 1위, 전략이 2위, 어드벤처가 3위 순으로 많이 차지하고 있다. --> 가장 인기 있는 장르는 롤플레잉이다.\n",
    "## 가장 적은 장르는 캐주얼과 레이싱이다."
   ]
  },
  {
   "cell_type": "code",
   "execution_count": 163,
   "metadata": {
    "ExecuteTime": {
     "end_time": "2020-12-14T17:26:54.595108Z",
     "start_time": "2020-12-14T17:26:54.547102Z"
    }
   },
   "outputs": [
    {
     "data": {
      "text/plain": [
       "[0.28488372093023256,\n",
       " 0.1744186046511628,\n",
       " 0.1569767441860465,\n",
       " 0.08139534883720931,\n",
       " 0.08139534883720931,\n",
       " 0.05813953488372093,\n",
       " 0.040697674418604654,\n",
       " 0.03488372093023256,\n",
       " 0.023255813953488372,\n",
       " 0.01744186046511628,\n",
       " 0.01744186046511628,\n",
       " 0.01744186046511628,\n",
       " 0.005813953488372093,\n",
       " 0.005813953488372093]"
      ]
     },
     "execution_count": 163,
     "metadata": {},
     "output_type": "execute_result"
    }
   ],
   "source": [
    "genre_score = df_games[\"genre(Games)\"].value_counts(normalize=True).tolist()\n",
    "genre_score"
   ]
  },
  {
   "cell_type": "code",
   "execution_count": 180,
   "metadata": {
    "ExecuteTime": {
     "end_time": "2020-12-14T17:37:23.965990Z",
     "start_time": "2020-12-14T17:37:23.945574Z"
    }
   },
   "outputs": [
    {
     "data": {
      "text/plain": [
       "['롤플레잉',\n",
       " '전략',\n",
       " '어드벤처',\n",
       " '스포츠',\n",
       " '퍼즐',\n",
       " '카드',\n",
       " '시뮬레이션',\n",
       " '액션',\n",
       " '음악',\n",
       " '가족',\n",
       " '보드',\n",
       " '카지노',\n",
       " '레이싱',\n",
       " '캐주얼']"
      ]
     },
     "execution_count": 180,
     "metadata": {},
     "output_type": "execute_result"
    }
   ],
   "source": [
    "genre_names = df_games.groupby([\"genre(Games)\"]).count().sort_values(by=\"title\", ascending=False).index.tolist()\n",
    "genre_names"
   ]
  },
  {
   "cell_type": "code",
   "execution_count": 189,
   "metadata": {
    "ExecuteTime": {
     "end_time": "2020-12-14T17:44:10.686729Z",
     "start_time": "2020-12-14T17:44:10.510202Z"
    },
    "scrolled": false
   },
   "outputs": [
    {
     "data": {
      "image/png": "[encoded data removed]",
      "text/plain": [
       "<Figure size 576x576 with 1 Axes>"
      ]
     },
     "metadata": {},
     "output_type": "display_data"
    }
   ],
   "source": [
    "plt.figure(figsize=(8,8))\n",
    "plt.rcParams['font.size'] = 13\n",
    "wedgeprops={'width': 0.7, 'edgecolor': 'w', 'linewidth': 5}\n",
    "x = plt.pie(data=genre_score, x=genre_score, labels=genre_names, autopct='%.1f%%', wedgeprops=wedgeprops)"
   ]
  },
  {
   "cell_type": "code",
   "execution_count": 104,
   "metadata": {
    "ExecuteTime": {
     "end_time": "2020-12-14T16:44:28.245849Z",
     "start_time": "2020-12-14T16:44:28.011820Z"
    }
   },
   "outputs": [
    {
     "data": {
      "image/png": "[encoded data removed]",
      "text/plain": [
       "<Figure size 1080x432 with 1 Axes>"
      ]
     },
     "metadata": {
      "needs_background": "light"
     },
     "output_type": "display_data"
    }
   ],
   "source": [
    "plt.figure(figsize=(15,6))\n",
    "plt.title(\"세부장르별 게임 수\")\n",
    "x = sns.countplot(data=df_games, y=\"genre(Games)\")"
   ]
  },
  {
   "cell_type": "markdown",
   "metadata": {},
   "source": [
    "## \"Games\"카테고리에서 대부분은 무료게임이다.(199개 중 유료게임 2개)"
   ]
  },
  {
   "cell_type": "code",
   "execution_count": 109,
   "metadata": {
    "ExecuteTime": {
     "end_time": "2020-12-14T16:49:28.251520Z",
     "start_time": "2020-12-14T16:49:28.117509Z"
    }
   },
   "outputs": [
    {
     "name": "stdout",
     "output_type": "stream",
     "text": [
      "free    197\n",
      "paid      2\n",
      "Name: pricing, dtype: int64\n"
     ]
    },
    {
     "data": {
      "image/png": "[encoded data removed]",
      "text/plain": [
       "<Figure size 432x288 with 1 Axes>"
      ]
     },
     "metadata": {
      "needs_background": "light"
     },
     "output_type": "display_data"
    }
   ],
   "source": [
    "print(df_games[\"pricing\"].value_counts())\n",
    "y = sns.countplot(data=df_games, x=\"pricing\")"
   ]
  },
  {
   "cell_type": "markdown",
   "metadata": {},
   "source": [
    "## 세부장르별 리뷰평점은 가족, 퍼즐, 액션, 어드벤처, 캐주얼 순으로 높았으며, 14개 장르 중 11개 장르의 평균 리뷰평점은 게임 앱 평균 리뷰평점(4.15)보다 높다."
   ]
  },
  {
   "cell_type": "code",
   "execution_count": 116,
   "metadata": {
    "ExecuteTime": {
     "end_time": "2020-12-14T16:53:59.881111Z",
     "start_time": "2020-12-14T16:53:59.073522Z"
    },
    "scrolled": false
   },
   "outputs": [
    {
     "name": "stdout",
     "output_type": "stream",
     "text": [
      "게임 앱 평균 리뷰평점: 4.159798994974876\n"
     ]
    },
    {
     "data": {
      "image/png": "[encoded data removed]",
      "text/plain": [
       "<Figure size 1080x432 with 1 Axes>"
      ]
     },
     "metadata": {
      "needs_background": "light"
     },
     "output_type": "display_data"
    }
   ],
   "source": [
    "print(\"게임 앱 평균 리뷰평점:\", df_games[\"review_score\"].mean())\n",
    "plt.figure(figsize=(15,6))\n",
    "plt.title(\"세부장르별 리뷰평점\")\n",
    "x = sns.barplot(data=df_games, x=\"review_score\", y=\"genre(Games)\")"
   ]
  },
  {
   "cell_type": "code",
   "execution_count": 137,
   "metadata": {
    "ExecuteTime": {
     "end_time": "2020-12-14T17:08:42.182880Z",
     "start_time": "2020-12-14T17:08:39.797415Z"
    }
   },
   "outputs": [
    {
     "data": {
      "image/png": "[encoded data removed]",
      "text/plain": [
       "<Figure size 1080x432 with 1 Axes>"
      ]
     },
     "metadata": {
      "needs_background": "light"
     },
     "output_type": "display_data"
    }
   ],
   "source": [
    "plt.figure(figsize=(15,6))\n",
    "plt.title(\"세부장르별 리뷰평점\")\n",
    "x = sns.scatterplot(data=df_games, x=\"app_size(MB)\", y=\"release_year\")"
   ]
  },
  {
   "cell_type": "code",
   "execution_count": null,
   "metadata": {},
   "outputs": [],
   "source": [
    "# 앱 크기 - 평점 간의 상관관계/리뷰 수 - 평점 간의 상관관계"
   ]
  },
  {
   "cell_type": "code",
   "execution_count": null,
   "metadata": {},
   "outputs": [],
   "source": [
    "# 유료 앱 - 가격대별 앱 분포, 카테고리별 비중, 카테고리별 앱 가격"
   ]
  },
  {
   "cell_type": "code",
   "execution_count": null,
   "metadata": {},
   "outputs": [],
   "source": [
    "# 출시연도별 앱 카테고리 비중(어떤 카테고리에 장수/신규 앱들이 많은지)"
   ]
  },
  {
   "cell_type": "code",
   "execution_count": null,
   "metadata": {},
   "outputs": [],
   "source": [
    "# 리뷰 수가 특정기준 이상인 앱들 - 평점/가격/카테고리 비중과의 상관관계"
   ]
  }
 ],
 "metadata": {
  "hide_input": false,
  "kernelspec": {
   "display_name": "Python 3",
   "language": "python",
   "name": "python3"
  },
  "language_info": {
   "codemirror_mode": {
    "name": "ipython",
    "version": 3
   },
   "file_extension": ".py",
   "mimetype": "text/x-python",
   "name": "python",
   "nbconvert_exporter": "python",
   "pygments_lexer": "ipython3",
   "version": "3.7.6"
  },
  "toc": {
   "base_numbering": 1,
   "nav_menu": {},
   "number_sections": true,
   "sideBar": true,
   "skip_h1_title": false,
   "title_cell": "Table of Contents",
   "title_sidebar": "Contents",
   "toc_cell": false,
   "toc_position": {},
   "toc_section_display": true,
   "toc_window_display": false
  }
 },
 "nbformat": 4,
 "nbformat_minor": 4
}
